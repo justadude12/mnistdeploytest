{
 "cells": [
  {
   "cell_type": "code",
   "execution_count": 1,
   "metadata": {},
   "outputs": [
    {
     "name": "stdout",
     "output_type": "stream",
     "text": [
      "Intel MKL WARNING: Support of Intel(R) Streaming SIMD Extensions 4.2 (Intel(R) SSE4.2) enabled only processors has been deprecated. Intel oneAPI Math Kernel Library 2025.0 will require Intel(R) Advanced Vector Extensions (Intel(R) AVX) instructions.\n",
      "Intel MKL WARNING: Support of Intel(R) Streaming SIMD Extensions 4.2 (Intel(R) SSE4.2) enabled only processors has been deprecated. Intel oneAPI Math Kernel Library 2025.0 will require Intel(R) Advanced Vector Extensions (Intel(R) AVX) instructions.\n"
     ]
    },
    {
     "name": "stderr",
     "output_type": "stream",
     "text": [
      "/Users/ventura/opt/anaconda3/lib/python3.9/site-packages/torchvision/io/image.py:13: UserWarning: Failed to load image Python extension: 'dlopen(/Users/ventura/opt/anaconda3/lib/python3.9/site-packages/torchvision/image.so, 0x0006): Symbol not found: __ZN3c1017RegisterOperatorsD1Ev\n",
      "  Referenced from: <CC4BC91F-8B6A-3F9A-B9EB-A2B9D578E202> /Users/ventura/opt/anaconda3/lib/python3.9/site-packages/torchvision/image.so\n",
      "  Expected in:     <B36C132B-E822-3FDA-9BEC-DD9DB8197D06> /Users/ventura/opt/anaconda3/lib/python3.9/site-packages/torch/lib/libtorch_cpu.dylib'If you don't plan on using image functionality from `torchvision.io`, you can ignore this warning. Otherwise, there might be something wrong with your environment. Did you have `libjpeg` or `libpng` installed before building `torchvision` from source?\n",
      "  warn(\n"
     ]
    }
   ],
   "source": [
    "import torch\n",
    "from torch import nn\n",
    "import torchvision\n",
    "import torchvision.transforms as transforms\n",
    "from torchvision.datasets import ImageFolder\n",
    "from torch.utils.data import DataLoader\n",
    "import matplotlib.pyplot as plt\n",
    "import time"
   ]
  },
  {
   "cell_type": "code",
   "execution_count": 2,
   "metadata": {},
   "outputs": [
    {
     "name": "stdout",
     "output_type": "stream",
     "text": [
      "cpu\n"
     ]
    }
   ],
   "source": [
    "device = torch.device(\"cuda\" if torch.cuda.is_available() else \"cpu\")\n",
    "print(device)"
   ]
  },
  {
   "cell_type": "markdown",
   "metadata": {},
   "source": [
    "### Neural network class"
   ]
  },
  {
   "cell_type": "code",
   "execution_count": 3,
   "metadata": {},
   "outputs": [],
   "source": [
    "class NeuralNetwork(nn.Module):\n",
    "    \"\"\"\n",
    "    A Convolutional Neural Network (CNN) for MNIST digit classification.\n",
    "\n",
    "    This model takes a 28x28 grayscale image as input and classifies it into\n",
    "    one of the 10 digit classes (0-9).\n",
    "    \"\"\"\n",
    "    def __init__(self):\n",
    "        \"\"\"\n",
    "        Initializes the MNISTModel with the following layers:\n",
    "        - Two convolutional layers with max pooling and ReLU activation.\n",
    "        - A flattening layer.\n",
    "        - A fully connected layer.\n",
    "        \"\"\"\n",
    "        super().__init__()\n",
    "        self.linear_relu_stack = nn.Sequential(\n",
    "            nn.Conv2d(in_channels=1, out_channels=16, kernel_size=5, stride=1),\n",
    "            nn.MaxPool2d(kernel_size=2, stride=2),\n",
    "            nn.ReLU(),\n",
    "            nn.Conv2d(in_channels=16, out_channels=32, kernel_size=5, stride=1),\n",
    "            nn.MaxPool2d(kernel_size=2, stride=2),\n",
    "            nn.ReLU(),\n",
    "            nn.Flatten(),\n",
    "            nn.Linear(512, 10),\n",
    "        )\n",
    "\n",
    "    def forward(self, x):\n",
    "        \"\"\"\n",
    "        Defines the forward pass of the model.\n",
    "\n",
    "        Args:\n",
    "            x (torch.Tensor): Input tensor of shape (batch_size, 1, 28, 28).\n",
    "\n",
    "        Returns:\n",
    "            torch.Tensor: Output tensor of shape (batch_size, 10) containing\n",
    "            the predicted class scores for each digit.\n",
    "        \"\"\"\n",
    "        logits = self.linear_relu_stack(x)\n",
    "        return logits"
   ]
  },
  {
   "cell_type": "markdown",
   "metadata": {},
   "source": [
    "### Dataset"
   ]
  },
  {
   "cell_type": "code",
   "execution_count": 4,
   "metadata": {},
   "outputs": [],
   "source": [
    "transform = transforms.Compose(\n",
    "  [\n",
    "    transforms.Grayscale(),\n",
    "    transforms.Resize((28, 28)),\n",
    "    transforms.ToTensor(),\n",
    "    transforms.RandomPerspective(),\n",
    "    transforms.RandomRotation(10),\n",
    "    transforms.Normalize((0.5,), (0.5,))\n",
    "  ]\n",
    ")\n",
    "\n",
    "training_data = torchvision.datasets.MNIST(\"./data\", train=True, download=True, transform=transform)\n",
    "validation_data = torchvision.datasets.MNIST(\"./data\", train=False, download=True, transform=transform)\n",
    "\n",
    "train_loader = DataLoader(training_data, batch_size=64, shuffle=True)\n",
    "validation_loader = DataLoader(validation_data, batch_size=64, shuffle=False)"
   ]
  },
  {
   "cell_type": "markdown",
   "metadata": {},
   "source": [
    "### Understand the dataset"
   ]
  },
  {
   "cell_type": "code",
   "execution_count": 5,
   "metadata": {},
   "outputs": [
    {
     "name": "stdout",
     "output_type": "stream",
     "text": [
      "Total number of samples: 60000\n",
      "Shape of a single data sample: torch.Size([1, 28, 28])\n",
      "Type of data:  <class 'torch.Tensor'>\n",
      "Type of label: <class 'int'>\n"
     ]
    },
    {
     "data": {
      "image/png": "[encoded data removed]",
      "text/plain": [
       "<Figure size 300x300 with 1 Axes>"
      ]
     },
     "metadata": {},
     "output_type": "display_data"
    }
   ],
   "source": [
    "def explore_dataset(data):\n",
    "    \"\"\"\n",
    "    Helps familiarize with the MNIST dataset. \n",
    "    Prints the size of the dataset, its shape, format, and plots a sample.\n",
    "    \"\"\"\n",
    "    # Display the length of the training dataset\n",
    "    print(\"Total number of samples:\", len(data))\n",
    "\n",
    "    # Display the shape of a single sample\n",
    "    sample_data, sample_label = data[0]\n",
    "    print(\"Shape of a single data sample:\", sample_data.shape)\n",
    "    print(\"Type of data: \", type(sample_data))\n",
    "    print(\"Type of label:\", type(sample_label))\n",
    "\n",
    "    # Plot the images in the batch\n",
    "    def show_image(image, label):\n",
    "        plt.figure(figsize=(3, 3))\n",
    "        plt.imshow(image.permute(1, 2, 0), cmap='gray')\n",
    "        plt.title(f\"Label: {label}\")\n",
    "        plt.axis(\"off\")\n",
    "        plt.show()\n",
    "\n",
    "    # Display the first image and label in the batch\n",
    "    show_image(sample_data, sample_label)\n",
    "\n",
    "explore_dataset(training_data)"
   ]
  },
  {
   "cell_type": "markdown",
   "metadata": {},
   "source": [
    "### Training "
   ]
  },
  {
   "cell_type": "code",
   "execution_count": 6,
   "metadata": {},
   "outputs": [
    {
     "name": "stdout",
     "output_type": "stream",
     "text": [
      "Epoch 0, batch 0, loss: 0.7050976753234863\n",
      "Epoch 0, batch 100, loss: 0.17783868312835693\n",
      "Epoch 0, batch 200, loss: 0.13471470773220062\n",
      "Epoch 0, batch 300, loss: 0.10054139047861099\n",
      "Epoch 0, batch 400, loss: 0.1030053123831749\n",
      "Epoch 0, batch 500, loss: 0.08426903933286667\n",
      "Epoch 0, batch 600, loss: 0.06904156506061554\n",
      "Epoch 0, batch 700, loss: 0.0973028838634491\n",
      "Epoch 0, batch 800, loss: 0.05411010980606079\n",
      "Epoch 0, batch 900, loss: 0.06396054476499557\n",
      "Epoch 1, batch 0, loss: 0.07114696502685547\n",
      "Epoch 1, batch 100, loss: 0.06155892089009285\n",
      "Epoch 1, batch 200, loss: 0.05961950495839119\n",
      "Epoch 1, batch 300, loss: 0.04896778613328934\n",
      "Epoch 1, batch 400, loss: 0.04132036492228508\n",
      "Epoch 1, batch 500, loss: 0.029348503798246384\n",
      "Epoch 1, batch 600, loss: 0.022657016292214394\n",
      "Epoch 1, batch 700, loss: 0.028647279366850853\n",
      "Epoch 1, batch 800, loss: 0.06098712608218193\n",
      "Epoch 1, batch 900, loss: 0.02580675110220909\n",
      "Epoch 2, batch 0, loss: 0.04519150033593178\n",
      "Epoch 2, batch 100, loss: 0.021948877722024918\n",
      "Epoch 2, batch 200, loss: 0.0391690656542778\n",
      "Epoch 2, batch 300, loss: 0.03212486952543259\n",
      "Epoch 2, batch 400, loss: 0.026658564805984497\n",
      "Epoch 2, batch 500, loss: 0.032137539237737656\n",
      "Epoch 2, batch 600, loss: 0.046973343938589096\n",
      "Epoch 2, batch 700, loss: 0.011392641812562943\n",
      "Epoch 2, batch 800, loss: 0.028233015909790993\n",
      "Epoch 2, batch 900, loss: 0.027173269540071487\n",
      "--- 146.77821016311646 seconds ---\n"
     ]
    }
   ],
   "source": [
    "model = NeuralNetwork().to(device)\n",
    "loss_fn = torch.nn.BCEWithLogitsLoss()\n",
    "optimizer = torch.optim.Adam(model.parameters(), lr=1e-3)\n",
    "epochs = 3\n",
    "\n",
    "start_time = time.time()\n",
    "\n",
    "for _ in range(epochs):\n",
    "    for i, (images, labels) in enumerate(train_loader):\n",
    "        images, labels = images.to(device), labels.to(device)\n",
    "        optimizer.zero_grad()\n",
    "        output = model(images)\n",
    "\n",
    "        # One-hot encoding\n",
    "        labels = torch.nn.functional.one_hot(labels, num_classes=10).float()\n",
    "\n",
    "        # Implements sigmoid function to the output and computes the cross-entropy loss function\n",
    "        loss = loss_fn(output, labels)\n",
    "        loss.backward()\n",
    "        optimizer.step()\n",
    "\n",
    "        if i % 100 == 0:\n",
    "            print(f\"Epoch {_}, batch {i}, loss: {loss.item()}\")\n",
    "\n",
    "print(\"--- %s seconds ---\" % (time.time() - start_time))"
   ]
  },
  {
   "cell_type": "markdown",
   "metadata": {},
   "source": [
    "### Model eval"
   ]
  },
  {
   "cell_type": "code",
   "execution_count": 7,
   "metadata": {},
   "outputs": [
    {
     "name": "stdout",
     "output_type": "stream",
     "text": [
      "Accuracy: 0.9635\n",
      "Macro-Average\n",
      "Precision: 0.9635518789291382\n",
      "Recall: 0.9633437991142273\n",
      "F1 Score: 0.9633414149284363\n"
     ]
    }
   ],
   "source": [
    "def eval_model(data, loader):\n",
    "    \"\"\"\n",
    "    Evaluates the MNIST model on the validation/test dataset. \n",
    "    Computes and prints the model's accuracy and the macro-average of the precision, recall and\n",
    "    f1-score. \n",
    "\n",
    "    Args:\n",
    "        data: The  validation/test data.\n",
    "        loader: DataLoader for the validation/test dataset.\n",
    "    \"\"\"\n",
    "    model.to(device)\n",
    "    true = 0\n",
    "    true_positive = torch.zeros(10)\n",
    "    false_positive = torch.zeros(10)\n",
    "    pos = torch.zeros(10)\n",
    "\n",
    "    dataset_size = len(data)\n",
    "    for (images, labels) in loader:\n",
    "        images, labels = images.to(device), labels.to(device)\n",
    "        output = model(images)\n",
    "        predictions = torch.argmax(output, dim=1)\n",
    "        true += torch.sum(predictions == labels).item()\n",
    "\n",
    "        for cls in range(10):\n",
    "            true_positive[cls] += ((predictions == cls) & (labels == cls)).sum().item()\n",
    "            false_positive[cls] += ((predictions == cls) & (labels != cls)).sum().item()\n",
    "            pos[cls] += (labels == cls).sum().item()\n",
    "\n",
    "    # Compute accuracy, precision, recall and f1_score\n",
    "    accuracy = true / dataset_size\n",
    "    precision = true_positive / (true_positive + false_positive)\n",
    "    recall = true_positive / pos\n",
    "    f1_score = 2 * precision * recall / (precision + recall)\n",
    "\n",
    "    # Accuracy\n",
    "    print(f\"Accuracy: {accuracy}\")\n",
    "\n",
    "    # Macro-Average\n",
    "    print(\"Macro-Average\")\n",
    "    print(f\"Precision: {precision.sum() / 10}\")\n",
    "    print(f\"Recall: {recall.sum() / 10}\")\n",
    "    print(f\"F1 Score: {f1_score.sum() / 10}\")\n",
    "\n",
    "eval_model(validation_data, validation_loader)"
   ]
  },
  {
   "cell_type": "markdown",
   "metadata": {},
   "source": [
    "## Test the model with custom images"
   ]
  },
  {
   "cell_type": "markdown",
   "metadata": {},
   "source": [
    "### Load the test dataset"
   ]
  },
  {
   "cell_type": "code",
   "execution_count": 8,
   "metadata": {},
   "outputs": [],
   "source": [
    "test_data = ImageFolder(root=\"data/test-images\", transform=transform)\n",
    "test_loader = DataLoader(test_data, batch_size=32, shuffle=False)"
   ]
  },
  {
   "cell_type": "markdown",
   "metadata": {},
   "source": [
    "### Explore test data"
   ]
  },
  {
   "cell_type": "code",
   "execution_count": 9,
   "metadata": {},
   "outputs": [
    {
     "name": "stdout",
     "output_type": "stream",
     "text": [
      "Total number of samples: 40\n",
      "Shape of a single data sample: torch.Size([1, 28, 28])\n",
      "Type of data:  <class 'torch.Tensor'>\n",
      "Type of label: <class 'int'>\n"
     ]
    },
    {
     "data": {
      "image/png": "[encoded data removed]",
      "text/plain": [
       "<Figure size 300x300 with 1 Axes>"
      ]
     },
     "metadata": {},
     "output_type": "display_data"
    }
   ],
   "source": [
    "explore_dataset(test_data)"
   ]
  },
  {
   "cell_type": "markdown",
   "metadata": {},
   "source": [
    "### Model Test"
   ]
  },
  {
   "cell_type": "code",
   "execution_count": 10,
   "metadata": {},
   "outputs": [
    {
     "name": "stdout",
     "output_type": "stream",
     "text": [
      "Accuracy: 0.875\n",
      "Macro-Average\n",
      "Precision: 0.9133332967758179\n",
      "Recall: 0.875\n",
      "F1 Score: 0.8726984858512878\n"
     ]
    }
   ],
   "source": [
    "eval_model(test_data, test_loader)"
   ]
  },
  {
   "cell_type": "markdown",
   "metadata": {},
   "source": [
    "### Save model"
   ]
  },
  {
   "cell_type": "code",
   "execution_count": 11,
   "metadata": {},
   "outputs": [],
   "source": [
    "torch.save(model.state_dict(), \"MNISTclassifier_data_augment.pth\")"
   ]
  },
  {
   "cell_type": "code",
   "execution_count": 12,
   "metadata": {},
   "outputs": [
    {
     "data": {
      "text/plain": [
       "<All keys matched successfully>"
      ]
     },
     "execution_count": 12,
     "metadata": {},
     "output_type": "execute_result"
    }
   ],
   "source": [
    "model = NeuralNetwork()\n",
    "model.load_state_dict(torch.load(\"MNISTclassifier_data_augment.pth\", weights_only=True, map_location=device))"
   ]
  },
  {
   "cell_type": "code",
   "execution_count": 13,
   "metadata": {},
   "outputs": [
    {
     "data": {
      "text/plain": [
       "NeuralNetwork(\n",
       "  (linear_relu_stack): Sequential(\n",
       "    (0): Conv2d(1, 16, kernel_size=(5, 5), stride=(1, 1))\n",
       "    (1): MaxPool2d(kernel_size=2, stride=2, padding=0, dilation=1, ceil_mode=False)\n",
       "    (2): ReLU()\n",
       "    (3): Conv2d(16, 32, kernel_size=(5, 5), stride=(1, 1))\n",
       "    (4): MaxPool2d(kernel_size=2, stride=2, padding=0, dilation=1, ceil_mode=False)\n",
       "    (5): ReLU()\n",
       "    (6): Flatten(start_dim=1, end_dim=-1)\n",
       "    (7): Linear(in_features=512, out_features=10, bias=True)\n",
       "  )\n",
       ")"
      ]
     },
     "execution_count": 13,
     "metadata": {},
     "output_type": "execute_result"
    }
   ],
   "source": [
    "model.eval()"
   ]
  },
  {
   "cell_type": "code",
   "execution_count": 14,
   "metadata": {},
   "outputs": [
    {
     "data": {
      "text/plain": [
       "<matplotlib.image.AxesImage at 0x7fcea378a2e0>"
      ]
     },
     "execution_count": 14,
     "metadata": {},
     "output_type": "execute_result"
    },
    {
     "data": {
      "image/png": "[encoded data removed]",
      "text/plain": [
       "<Figure size 640x480 with 1 Axes>"
      ]
     },
     "metadata": {},
     "output_type": "display_data"
    }
   ],
   "source": [
    "image, label = validation_data[0]\n",
    "plt.imshow(image[0], cmap='gray')"
   ]
  },
  {
   "cell_type": "code",
   "execution_count": 15,
   "metadata": {},
   "outputs": [],
   "source": [
    "image = image.to(device)\n",
    "\n",
    "# Make the tensor 4D (batched)\n",
    "if image.dim() == 3:\n",
    "  image = image.unsqueeze(0)\n",
    "\n",
    "output = model(image)\n",
    "m = nn.Softmax(dim=1)\n",
    "output = m(output)"
   ]
  },
  {
   "cell_type": "code",
   "execution_count": 16,
   "metadata": {},
   "outputs": [
    {
     "data": {
      "text/plain": [
       "7"
      ]
     },
     "execution_count": 16,
     "metadata": {},
     "output_type": "execute_result"
    }
   ],
   "source": [
    "output.cpu().detach().numpy().argmax()"
   ]
  },
  {
   "cell_type": "markdown",
   "metadata": {},
   "source": [
    "## GUI"
   ]
  },
  {
   "cell_type": "code",
   "execution_count": 17,
   "metadata": {},
   "outputs": [
    {
     "ename": "AttributeError",
     "evalue": "module 'PIL.Image' has no attribute 'ANTIALIAS'",
     "output_type": "error",
     "traceback": [
      "\u001b[0;31m---------------------------------------------------------------------------\u001b[0m",
      "\u001b[0;31mAttributeError\u001b[0m                            Traceback (most recent call last)",
      "Cell \u001b[0;32mIn[17], line 215\u001b[0m\n\u001b[1;32m    213\u001b[0m root \u001b[38;5;241m=\u001b[39m tk\u001b[38;5;241m.\u001b[39mTk()\n\u001b[1;32m    214\u001b[0m root\u001b[38;5;241m.\u001b[39mgeometry(\u001b[38;5;124m\"\u001b[39m\u001b[38;5;124m1920x1080\u001b[39m\u001b[38;5;124m\"\u001b[39m)\n\u001b[0;32m--> 215\u001b[0m app \u001b[38;5;241m=\u001b[39m \u001b[43mDigitClassifierGUI\u001b[49m\u001b[43m(\u001b[49m\u001b[43mroot\u001b[49m\u001b[43m)\u001b[49m \n\u001b[1;32m    216\u001b[0m root\u001b[38;5;241m.\u001b[39mmainloop()\n",
      "Cell \u001b[0;32mIn[17], line 83\u001b[0m, in \u001b[0;36mDigitClassifierGUI.__init__\u001b[0;34m(self, root)\u001b[0m\n\u001b[1;32m     81\u001b[0m \u001b[38;5;28;01mfor\u001b[39;00m i \u001b[38;5;129;01min\u001b[39;00m \u001b[38;5;28mrange\u001b[39m(\u001b[38;5;241m10\u001b[39m):\n\u001b[1;32m     82\u001b[0m     img_array \u001b[38;5;241m=\u001b[39m digit_images[i]\u001b[38;5;241m.\u001b[39mnumpy()\u001b[38;5;241m.\u001b[39msqueeze() \u001b[38;5;241m*\u001b[39m \u001b[38;5;241m255\u001b[39m  \u001b[38;5;66;03m# Convert to numpy and scale\u001b[39;00m\n\u001b[0;32m---> 83\u001b[0m     img \u001b[38;5;241m=\u001b[39m Image\u001b[38;5;241m.\u001b[39mfromarray(img_array)\u001b[38;5;241m.\u001b[39mresize((\u001b[38;5;241m100\u001b[39m, \u001b[38;5;241m100\u001b[39m), \u001b[43mImage\u001b[49m\u001b[38;5;241;43m.\u001b[39;49m\u001b[43mANTIALIAS\u001b[49m)\n\u001b[1;32m     84\u001b[0m     img_tk \u001b[38;5;241m=\u001b[39m ImageTk\u001b[38;5;241m.\u001b[39mPhotoImage(img)\n\u001b[1;32m     86\u001b[0m     label \u001b[38;5;241m=\u001b[39m tk\u001b[38;5;241m.\u001b[39mLabel(\u001b[38;5;28mself\u001b[39m\u001b[38;5;241m.\u001b[39mroot, image\u001b[38;5;241m=\u001b[39mimg_tk, bg\u001b[38;5;241m=\u001b[39m\u001b[38;5;124m\"\u001b[39m\u001b[38;5;124mwhite\u001b[39m\u001b[38;5;124m\"\u001b[39m, relief\u001b[38;5;241m=\u001b[39m\u001b[38;5;124m\"\u001b[39m\u001b[38;5;124mraised\u001b[39m\u001b[38;5;124m\"\u001b[39m)\n",
      "\u001b[0;31mAttributeError\u001b[0m: module 'PIL.Image' has no attribute 'ANTIALIAS'"
     ]
    },
    {
     "data": {
      "image/png": "[encoded data removed]",
      "text/plain": [
       "<Figure size 500x400 with 1 Axes>"
      ]
     },
     "metadata": {},
     "output_type": "display_data"
    }
   ],
   "source": [
    "import tkinter as tk\n",
    "from tkinter import Canvas, messagebox, simpledialog\n",
    "import torch\n",
    "import torch.nn as nn\n",
    "from torchvision import transforms\n",
    "from PIL import Image, ImageDraw, ImageFilter, ImageTk\n",
    "import numpy as np\n",
    "import matplotlib.pyplot as plt\n",
    "from matplotlib.backends.backend_tkagg import FigureCanvasTkAgg\n",
    "import os\n",
    "\n",
    "transform = transforms.Compose(\n",
    "  [\n",
    "    transforms.Resize((28, 28)),\n",
    "    transforms.ToTensor(),\n",
    "    transforms.Normalize((0.5,), (0.5,))\n",
    "  ]\n",
    ")\n",
    "\n",
    "digit_images = {}\n",
    "for img, label in training_data:\n",
    "    if label not in digit_images:\n",
    "        digit_images[label] = img\n",
    "    if len(digit_images) == 10:\n",
    "        break\n",
    "\n",
    "class DigitClassifierGUI:\n",
    "    \"\"\"\n",
    "    A Graphical User Interface (GUI) for MNIST digit classification using a pre-trained model.\n",
    "\n",
    "    This GUI allows the user to write a digit, and predict it using the trained model.\n",
    "    \"\"\"\n",
    "    def __init__(self, root):\n",
    "        \"\"\"\n",
    "        Initializes the GUI class and sets up the GUI components.\n",
    "\n",
    "        Args:\n",
    "            root (tk.Tk): The root window for the tkinter GUI.\n",
    "        \"\"\"\n",
    "        self.root = root\n",
    "        self.root.title(\"MNIST Digit Classifier\")\n",
    "        self.size = 400\n",
    "        # Flag to track if the canvas has been modified\n",
    "        self.canvas_modified = False\n",
    "\n",
    "        self.false = 0\n",
    "        self.counter = 0\n",
    "\n",
    "        self.result_label = tk.Label(\n",
    "            self.root, \n",
    "            text=\"Draw a digit from 0 to 9\", \n",
    "            font=(\"Helvetica\", 24)\n",
    "        )\n",
    "        self.result_label.grid(row=0, column=0, columnspan=5, pady=(10, 0))\n",
    "\n",
    "        # Create a Canvas for drawing\n",
    "        self.canvas = Canvas(self.root, width=self.size, height=self.size, bg=\"white\")\n",
    "        self.canvas.grid(row=1, column=0, columnspan=5, padx=50, pady=(0, 10))\n",
    "        \n",
    "        # Set up for drawing\n",
    "        self.image = Image.new(\"L\", (self.size, self.size), \"white\")\n",
    "        self.draw = ImageDraw.Draw(self.image)\n",
    "        self.canvas.bind(\"<B1-Motion>\", self.paint)\n",
    "\n",
    "        # Predict button\n",
    "        self.predict_button = tk.Button(self.root, text=\"Predict\", command=self.predict_digit)\n",
    "        self.predict_button.grid(row=2, column=1)\n",
    "        \n",
    "        # Reset button\n",
    "        self.reset_button = tk.Button(self.root, text=\"Reset\", command=self.reset_canvas)\n",
    "        self.reset_button.grid(row=2, column=3)\n",
    "\n",
    "        # Set up plot area for prediction results\n",
    "        self.figure, self.ax = plt.subplots(figsize=(5, 4))\n",
    "        self.init_plot()\n",
    "        self.plot_canvas = FigureCanvasTkAgg(self.figure, self.root)\n",
    "        self.plot_canvas.get_tk_widget().grid(row=1, column=5, columnspan=5)\n",
    "\n",
    "        # Display MNIST digit images\n",
    "        self.digit_labels = []\n",
    "        for i in range(10):\n",
    "            img_array = digit_images[i].numpy().squeeze() * 255  # Convert to numpy and scale\n",
    "            img = Image.fromarray(img_array).resize((100, 100), Image.ANTIALIAS)\n",
    "            img_tk = ImageTk.PhotoImage(img)\n",
    "\n",
    "            label = tk.Label(self.root, image=img_tk, bg=\"white\", relief=\"raised\")\n",
    "            label.image = img_tk  # Keep a reference to prevent garbage collection\n",
    "            label.grid(row=4, column=i, columnspan=1, padx=(28, 0), pady=20)\n",
    "            self.digit_labels.append(label)\n",
    "        \n",
    "        # Accuracy display\n",
    "        self.accuracy_label = tk.Label(\n",
    "            self.root, \n",
    "            text=\"Accuracy: No predictions made yet.\", \n",
    "            font=(\"Helvetica\", 14)\n",
    "        )\n",
    "        self.accuracy_label.grid(row=5, column=0, columnspan=5 ,pady=5)\n",
    "\n",
    "    def paint(self, event):\n",
    "        \"\"\"\n",
    "        Allows the user to paint a digit\n",
    "        \"\"\"\n",
    "        thickness = 13\n",
    "        x1, y1 = (event.x - thickness), (event.y - thickness)\n",
    "        x2, y2 = (event.x + thickness), (event.y + thickness)\n",
    "        self.canvas.create_oval(x1, y1, x2, y2, fill=\"black\", outline=\"black\", width=5)\n",
    "        self.draw.ellipse([x1, y1, x2, y2], fill=\"black\")\n",
    "        self.canvas_modified = True  # Mark the canvas as modified\n",
    "\n",
    "    def init_plot(self):\n",
    "        self.ax.set_title(\"Prediction Scores\")\n",
    "        self.ax.bar(range(10), np.zeros(10))\n",
    "        self.ax.set_ylim([0, 1])\n",
    "        self.ax.set_xticks(range(10))\n",
    "        self.ax.set_xlabel(\"Digits\")\n",
    "        self.ax.set_ylabel(\"Probabilities\")\n",
    "\n",
    "    def reset_canvas(self):\n",
    "        \"\"\"\n",
    "        Clears the canvas where the user can re-write another digit.\n",
    "        \"\"\"\n",
    "        self.canvas.delete(\"all\")\n",
    "        self.draw.rectangle([0, 0, self.size, self.size], fill=\"white\")\n",
    "        self.ax.clear()\n",
    "        self.init_plot()\n",
    "        self.plot_canvas.draw()\n",
    "        self.reset_highlight()\n",
    "        self.canvas_modified = False  # Reset the modification flag\n",
    "\n",
    "    def predict_digit(self):\n",
    "        \"\"\"\n",
    "        Predicts the handwritten digit using the pre-trained model and updates the result label.\n",
    "        \"\"\"\n",
    "        if not self.canvas_modified:\n",
    "            messagebox.showwarning(\"Empty Canvas\", \"Please draw a number.\")\n",
    "            return\n",
    "\n",
    "        # Resize and process the image to be 28x28 for MNIST model\n",
    "        image_tensor = transform(self.image).unsqueeze(0)*(-1)\n",
    "        \n",
    "        # Run the image through the model\n",
    "        with torch.no_grad():\n",
    "            predictions = model(image_tensor)\n",
    "            m = nn.Softmax(dim=1)\n",
    "            predictions = m(predictions)\n",
    "\n",
    "        predicted_label = torch.argmax(predictions).item()\n",
    "        # Update the plot\n",
    "        self.ax.clear()\n",
    "        self.ax.bar(range(10), predictions.numpy()[0])\n",
    "        self.ax.set_ylim([0, 1])\n",
    "        self.ax.set_xticks(range(10))\n",
    "        self.ax.set_xlabel(\"Digits\")\n",
    "        self.ax.set_ylabel(\"Probabilities\")\n",
    "        self.ax.set_title(f\"Prediction: {predicted_label}\")\n",
    "        self.plot_canvas.draw()\n",
    "\n",
    "        self.highlight_digit(predicted_label)\n",
    "        self.confirm_prediction(predicted_label)\n",
    "\n",
    "    def reset_highlight(self):\n",
    "        \"\"\"\n",
    "        Reset the highlight for all digit labels.\n",
    "        \"\"\"\n",
    "        for label in self.digit_labels:\n",
    "            label.config(bg=\"white\", highlightthickness=0, relief=\"raised\")\n",
    "\n",
    "    def highlight_digit(self, digit):\n",
    "        \"\"\"\n",
    "        Highlight the predicted digit.\n",
    "        \"\"\"\n",
    "        self.reset_highlight()\n",
    "        self.digit_labels[digit].config(\n",
    "            highlightbackground=\"green\",\n",
    "            highlightthickness=5, \n",
    "            relief=\"solid\"\n",
    "        )\n",
    "\n",
    "    def confirm_prediction(self, digit):\n",
    "        \"\"\"\n",
    "        Checks if the predicted label is correct.\n",
    "        \"\"\"\n",
    "        response = messagebox.askyesno(\"Confirm Prediction\", f\"Is the predicted digit '{digit}' correct?\")\n",
    "        if not response:\n",
    "            self.false += 1\n",
    "            # Prompt the user to enter the correct digit\n",
    "            corrected_digit = simpledialog.askinteger(\"Correct Prediction\", \"Enter the correct digit:\")\n",
    "            # Store (image, corrected_digit) for future training\n",
    "            self.save_correction(corrected_digit)\n",
    "        self.counter += 1\n",
    "        self.reset_canvas()\n",
    "        accuracy = (self.counter - self.false) * 100 / self.counter\n",
    "        self.accuracy_label.config(text=f\"Accuracy: {accuracy:.2f}%\")\n",
    "\n",
    "    def save_correction(self, corrected_digit):\n",
    "        \"\"\"\n",
    "        Save the drawn image and corrected label to a dataset\n",
    "        \"\"\"\n",
    "        # Create a unique filename for the image\n",
    "        image_count = len(os.listdir(\"data/ai-day-test-images\"))  # Number of files already in the directory\n",
    "        image_filename = os.path.join(\"data/ai-day-test-images\", f\"digit_{image_count}.png\")\n",
    "\n",
    "        self.image.save(image_filename)\n",
    "        print(f\"Image saved to {image_filename}\")\n",
    "\n",
    "        # Save the label to a CSV file\n",
    "        labels_file = os.path.join(\"data/ai-day-test-images\", \"labels.csv\")\n",
    "        with open(labels_file, \"a\") as file:\n",
    "            file.write(f\"{image_filename},{corrected_digit}\\n\")\n",
    "        print(f\"Label saved to {labels_file}\")\n",
    "\n",
    "# Create the Tkinter window\n",
    "root = tk.Tk()\n",
    "root.geometry(\"1920x1080\")\n",
    "app = DigitClassifierGUI(root) \n",
    "root.mainloop()\n"
   ]
  },
  {
   "cell_type": "code",
   "execution_count": 19,
   "metadata": {},
   "outputs": [],
   "source": [
    "import torch.onnx\n",
    "\n",
    "# Export the model to ONNX format\n",
    "dummy_input = torch.randn(1, 1, 28, 28)\n",
    "torch.onnx.export(model, dummy_input, \"model.onnx\",\n",
    "                 input_names=['input'],\n",
    "                 output_names=['output'],\n",
    "                 dynamic_axes={'input': {0: 'batch_size'},\n",
    "                             'output': {0: 'batch_size'}})"
   ]
  },
  {
   "cell_type": "code",
   "execution_count": null,
   "metadata": {},
   "outputs": [],
   "source": []
  }
 ],
 "metadata": {
  "kernelspec": {
   "display_name": "Python 3",
   "language": "python",
   "name": "python3"
  },
  "language_info": {
   "codemirror_mode": {
    "name": "ipython",
    "version": 3
   },
   "file_extension": ".py",
   "mimetype": "text/x-python",
   "name": "python",
   "nbconvert_exporter": "python",
   "pygments_lexer": "ipython3",
   "version": "3.9.18"
  }
 },
 "nbformat": 4,
 "nbformat_minor": 2
}
